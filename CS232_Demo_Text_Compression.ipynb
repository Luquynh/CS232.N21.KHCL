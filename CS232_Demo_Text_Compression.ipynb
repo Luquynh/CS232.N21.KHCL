{
  "nbformat": 4,
  "nbformat_minor": 0,
  "metadata": {
    "colab": {
      "provenance": [],
      "toc_visible": true
    },
    "kernelspec": {
      "name": "python3",
      "display_name": "Python 3"
    },
    "language_info": {
      "name": "python"
    },
    "gpuClass": "standard"
  },
  "cells": [
    {
      "cell_type": "markdown",
      "source": [
        "#Library"
      ],
      "metadata": {
        "id": "P1c9Oy3H48NT"
      }
    },
    {
      "cell_type": "code",
      "source": [
        "!pip install bitstring"
      ],
      "metadata": {
        "colab": {
          "base_uri": "https://localhost:8080/"
        },
        "id": "ml4ScnqL5Ah9",
        "outputId": "c99d3095-3774-4927-c879-f22dd937f149"
      },
      "execution_count": null,
      "outputs": [
        {
          "output_type": "stream",
          "name": "stdout",
          "text": [
            "Looking in indexes: https://pypi.org/simple, https://us-python.pkg.dev/colab-wheels/public/simple/\n",
            "Requirement already satisfied: bitstring in /usr/local/lib/python3.7/dist-packages (3.1.9)\n"
          ]
        }
      ]
    },
    {
      "cell_type": "code",
      "source": [
        "import pandas as pd\n",
        "from collections import Counter\n",
        "from math import log, ceil\n",
        "from bitstring import BitArray, Bits\n",
        "import os\n",
        "import heapq\n",
        "import time"
      ],
      "metadata": {
        "id": "DzcRlLf05CPj"
      },
      "execution_count": null,
      "outputs": []
    },
    {
      "cell_type": "markdown",
      "source": [
        "#HUFFMAN"
      ],
      "metadata": {
        "id": "CTWXbgjy3HXm"
      }
    },
    {
      "cell_type": "code",
      "execution_count": null,
      "metadata": {
        "colab": {
          "base_uri": "https://localhost:8080/"
        },
        "id": "b1zgaxkY3CGn",
        "outputId": "613a838c-e1f8-4ea8-929a-e16025c4875e"
      },
      "outputs": [
        {
          "output_type": "stream",
          "name": "stdout",
          "text": [
            "Compressed\n"
          ]
        }
      ],
      "source": [
        "class BinaryTree:\n",
        "    def __init__(self,value,frequ):\n",
        "        self.value = value\n",
        "        self.frequ = frequ\n",
        "        self.left = None\n",
        "        self.right = None\n",
        "        \n",
        "    def __lt__(self,other):\n",
        "        return self.frequ < other.frequ\n",
        "    \n",
        "    def __eq__(self,other):\n",
        "        return self.frequ == other.frequ        \n",
        "\n",
        "class Huffmancode:\n",
        "    \n",
        "    def __init__(self,path):\n",
        "        self.path = path\n",
        "        self.__heap = []\n",
        "        self.__code = {}\n",
        "        self.__reversecode = {}\n",
        "        \n",
        "    def __frequency_from_text(self,text):\n",
        "        frequ_dict = {}\n",
        "        for char in text:\n",
        "            if char not in frequ_dict:\n",
        "                frequ_dict[char] = 0\n",
        "            frequ_dict[char] +=1\n",
        "        return frequ_dict    \n",
        "    \n",
        "    def __Build_heap(self,frequency_dict):\n",
        "        for key in frequency_dict:\n",
        "            frequency = frequency_dict[key]\n",
        "            binary_tree_node = BinaryTree(key,frequency)\n",
        "            heapq.heappush(self.__heap , binary_tree_node)\n",
        "    \n",
        "    def __Build_Binary_Tree(self):\n",
        "        while len(self.__heap) > 1:\n",
        "            binary_tree_node_1 = heapq.heappop(self.__heap)\n",
        "            binary_tree_node_2 = heapq.heappop(self.__heap)\n",
        "            sum_of_freq = binary_tree_node_1.frequ + binary_tree_node_2.frequ\n",
        "            newnode = BinaryTree(None,sum_of_freq)\n",
        "            newnode.left = binary_tree_node_1\n",
        "            newnode.right = binary_tree_node_2\n",
        "            heapq.heappush(self.__heap,newnode)\n",
        "        return\n",
        "    def __Build_Tree_Code_Helper(self,root,curr_bits):\n",
        "        if root is None:\n",
        "            return\n",
        "        if root.value is not None:\n",
        "            self.__code[root.value] = curr_bits\n",
        "            self.__reversecode[curr_bits] = root.value\n",
        "            return\n",
        "        self.__Build_Tree_Code_Helper(root.left,curr_bits+'0')\n",
        "        self.__Build_Tree_Code_Helper(root.right,curr_bits+'1')\n",
        "    \n",
        "    def __Build_Tree_Code(self):\n",
        "        root = heapq.heappop(self.__heap)\n",
        "        self.__Build_Tree_Code_Helper(root,'')\n",
        "        \n",
        "\n",
        "    def __Build_Encoded_Text(self,text):\n",
        "        encoded_text = ''\n",
        "        for char in text:\n",
        "            encoded_text += self.__code[char]\n",
        "            \n",
        "        return encoded_text  \n",
        "    \n",
        "    \n",
        "    def __Build_Padded_Text(self,encoded_text):\n",
        "        padding_value = 8 - (len(encoded_text) % 8)\n",
        "        for i in range(padding_value):\n",
        "            encoded_text += '0'\n",
        "            \n",
        "        padded_info = \"{0:08b}\".format(padding_value)\n",
        "        padded_encoded_text = padded_info + encoded_text\n",
        "        return padded_encoded_text\n",
        "    \n",
        "    def __Build_Byte_Array(self, padded_text):\n",
        "        array = []\n",
        "        for i in range(0,len(padded_text) , 8):\n",
        "            byte = padded_text[i:i+8]\n",
        "            array.append(int(byte,2))\n",
        "        return array    \n",
        "    \n",
        "    def compression(self):\n",
        "        \n",
        "        #To access the file and extract text from that file.\n",
        "        filename,file_extension = os.path.splitext(self.path)\n",
        "        output_path = 'encoded_huffman.txt'\n",
        "        with open (self.path,'r+') as file , open(output_path,'wb') as output:\n",
        "            text = file.read()\n",
        "            text = text.rstrip()\n",
        "            \n",
        "            frequency_dict = self.__frequency_from_text(text)\n",
        "\n",
        "            #Calculate frequency of each text and store it in freq. dictionary\n",
        "\n",
        "            build_heap = self.__Build_heap(frequency_dict)\n",
        "\n",
        "            # Min heap for two minimum frquency.\n",
        "\n",
        "            #Construct binary tree from Heap .\n",
        "\n",
        "            self.__Build_Binary_Tree()\n",
        "\n",
        "            #construct code from binary tree and stored it in dictionary.\n",
        "\n",
        "            self.__Build_Tree_Code()\n",
        "\n",
        "            #Construct encoded text.\n",
        "\n",
        "            encoded_text = self.__Build_Encoded_Text(text)\n",
        "\n",
        "            #padding of text\n",
        "\n",
        "            padded_text = self.__Build_Padded_Text(encoded_text)\n",
        "\n",
        "            #We have to return that binary file as an output.\n",
        "\n",
        "            bytes_array = self.__Build_Byte_Array(padded_text)\n",
        "\n",
        "            final_bytes = bytes(bytes_array)\n",
        "            output.write(final_bytes)\n",
        "        print(\"Compressed\")\n",
        "        return output_path\n",
        "    \n",
        "    def __Remove_Padding(self,text):\n",
        "        padded_info = text[:8]\n",
        "        extra_padding = int(padded_info,2)\n",
        "        text = text[8:]\n",
        "        padding_removed_text = text[:-1*extra_padding]\n",
        "        return padding_removed_text\n",
        "        \n",
        "    def __Decompress_Text(self,text):    \n",
        "        decoded_text = ''\n",
        "        current_bits = ''\n",
        "        for bit in text:\n",
        "            current_bits += bit\n",
        "            if current_bits in self.__reversecode:\n",
        "                character = self.__reversecode[current_bits]\n",
        "                decoded_text += character\n",
        "                current_bits = \"\"\n",
        "        return decoded_text\n",
        "    \n",
        "    \n",
        "    def decompress(self,input_path):\n",
        "        filename,file_extension = os.path.splitext(input_path)\n",
        "        output_path = 'decode_huffman.txt'\n",
        "        with open(input_path,'rb') as file , open(output_path,'w') as output:\n",
        "            bit_string = ''\n",
        "            byte = file.read(1)\n",
        "            while byte:\n",
        "                byte = ord(byte)\n",
        "                bits = bin(byte)[2:].rjust(8,'0')\n",
        "                bit_string += bits\n",
        "                byte = file.read(1)\n",
        "                \n",
        "            actual_text = self.__Remove_Padding(bit_string)    \n",
        "            decompressed_text = self.__Decompress_Text(actual_text)\n",
        "            output.write(decompressed_text)\n",
        "        return    \n",
        "            \n",
        "path = \"5.txt\"\n",
        "h = Huffmancode(path)\n",
        "t0 = time.time()\n",
        "output_path = h.compression()\n",
        "t1 = time.time()\n",
        "total_1 = t1-t0\n",
        "\n",
        "t2 = time.time()\n",
        "h.decompress(output_path)\n",
        "t3 = time.time()\n",
        "total_2 = t3-t2"
      ]
    },
    {
      "cell_type": "markdown",
      "source": [
        "##Check file size"
      ],
      "metadata": {
        "id": "wRBQukw840rM"
      }
    },
    {
      "cell_type": "code",
      "source": [
        "print(\"Input size:\", os.stat(path).st_size, \"(bytes).\")\n",
        "print(\"Output size:\", os.stat(output_path).st_size, \"(bytes).\")\n",
        "print(\"Decode size:\", os.stat('decode_huffman.txt').st_size, \"(bytes).\")\n",
        "r = os.stat(path).st_size/os.stat(output_path).st_size\n",
        "print(\"Tỷ số nén:\", round(r,5))\n",
        "print(\"Tỷ lệ nén:\", round(1/r*100,2), \"%\")\n",
        "print(\"Hiệu suất nén:\", 100-round(1/r*100,2), \"%\")\n",
        "print(\"Thời gian nén:\", round(total_1,5), \"(giây).\")\n",
        "print(\"Thời gian giải nén:\", round(total_2,5), \"(giây).\")"
      ],
      "metadata": {
        "colab": {
          "base_uri": "https://localhost:8080/"
        },
        "id": "mvefW9Iq43ms",
        "outputId": "c11fa653-8d55-41f5-c563-b2bc056c4b2b"
      },
      "execution_count": null,
      "outputs": [
        {
          "output_type": "stream",
          "name": "stdout",
          "text": [
            "Input size: 2167737 (bytes).\n",
            "Output size: 1145521 (bytes).\n",
            "Decode size: 2167737 (bytes).\n",
            "Tỷ số nén: 1.89236\n",
            "Tỷ lệ nén: 52.84 %\n",
            "Hiệu suất nén: 47.16 %\n",
            "Thời gian nén: 1.15352 (giây).\n",
            "Thời gian giải nén: 2.38875 (giây).\n"
          ]
        }
      ]
    },
    {
      "cell_type": "markdown",
      "source": [
        "#SHANNON"
      ],
      "metadata": {
        "id": "MV91mW8F3kB-"
      }
    },
    {
      "cell_type": "markdown",
      "source": [
        "##Function"
      ],
      "metadata": {
        "id": "MofRxU6U4DYc"
      }
    },
    {
      "cell_type": "code",
      "source": [
        "def load_file(input):\n",
        "  with open(input) as f:\n",
        "    content = f.readlines()\n",
        "    content = \"\".join(content)\n",
        "    if content:\n",
        "        return content\n",
        "    else:\n",
        "        print(\"Read file failed please try again\")\n",
        "        return \"\"\n",
        "\n",
        "hex2bin = dict('{:x} {:04b}'.format(x,x).split() for x in range(16))\n",
        "def get_bincode(number, places=\"\"):\n",
        "    if number == 0.0:\n",
        "      return \"0\"*places \n",
        "    hx = float(number).hex()\n",
        "    p = hx.index('p')\n",
        "    bn = ''.join(hex2bin.get(char, char) for char in hx[2:p])\n",
        "    bn = (bn.strip('0'))\n",
        "    whole, flt = bn.split(\".\") \n",
        "    if places == \"\":\n",
        "      places = len(flt)+1\n",
        "    num = int(hx[p+2:])\n",
        "    whole = \"0\" * (num - 1) + whole\n",
        "    output = whole + flt\n",
        "    if len(output) < places:\n",
        "      output += \"0\" * (places - len(output))\n",
        "    return output[:places]\n",
        "\n",
        "def generate(char, total, _dict):\n",
        "  # calculate probability\n",
        "  probability = [(x[0]/total) for x in char]\n",
        "\n",
        "  # calculate codework length\n",
        "  code_length = [(ceil(-log(x,2))) for x in probability]\n",
        "\n",
        "  # cumulative probability\n",
        "  cumulative_probability = 0.0\n",
        "  for i in range(len(code_length)):\n",
        "    bin_code = get_bincode(cumulative_probability, code_length[i])\n",
        "    _dict[char[i][1]] = bin_code\n",
        "    cumulative_probability += probability[i]\n",
        "  return _dict"
      ],
      "metadata": {
        "id": "Cjvtrlqn3mDE"
      },
      "execution_count": null,
      "outputs": []
    },
    {
      "cell_type": "markdown",
      "source": [
        "##Encode"
      ],
      "metadata": {
        "id": "FmbcSxW43vb9"
      }
    },
    {
      "cell_type": "code",
      "source": [
        "input = \"5.txt\"\n",
        "output = \"encoded_shannon.txt\"\n",
        "dict_name = \"_dict_shannon.csv\"\n",
        "\n",
        "t0 = time.time()\n",
        "# Read file\n",
        "content = load_file(input)\n",
        "\n",
        "# Count character\n",
        "count = Counter(content)\n",
        "total = sum(count.values())\n",
        "char = [x[::-1] for x in list(count.items())]\n",
        "char.sort(reverse=True)\n",
        "\n",
        "# Create dictionary\n",
        "_dict = dict()\n",
        "generate(char,total,_dict)\n",
        "\n",
        "# Encode\n",
        "code = ''\n",
        "for c in content:\n",
        "  code += _dict[c]\n",
        "code_bin = BitArray(bin = code)\n",
        "max_bin = len(code)\n",
        "\n",
        "# Save file\n",
        "# output\n",
        "with open(output, \"wb\") as f:\n",
        "    code_bin.tofile(f)\n",
        "# dict\n",
        "keys = []\n",
        "values = []\n",
        "for key in _dict:\n",
        "  keys.append(_dict[key])\n",
        "  values.append(key)\n",
        "encoded = {'keys': list(keys), 'values': list(values)}\n",
        "df = pd.DataFrame(encoded)\n",
        "df.to_csv(dict_name, index=False)\n",
        "t1 = time.time()\n",
        "total_1 = t1-t0"
      ],
      "metadata": {
        "id": "u3TH5eBA4JlX"
      },
      "execution_count": null,
      "outputs": []
    },
    {
      "cell_type": "markdown",
      "source": [
        "##Decode"
      ],
      "metadata": {
        "id": "QMNDUC-n4L9b"
      }
    },
    {
      "cell_type": "code",
      "source": [
        "decode_file = \"decoded_shannon.txt\"\n",
        "\n",
        "t2 = time.time()\n",
        "# Read dictionary\n",
        "df = pd.read_csv(dict_name,dtype=str)\n",
        "keys = list(df['keys'])\n",
        "values = list(df['values'])\n",
        "_dict = dict(zip(keys,values))\n",
        "with open(output) as f:\n",
        "  data = Bits(f)\n",
        "\n",
        "\n",
        "# Decode\n",
        "string = ''\n",
        "s = ''\n",
        "for c in data.bin[:max_bin]:\n",
        "  if s+c not in _dict:\n",
        "    s+=c\n",
        "  else:\n",
        "    string+=_dict[s+c]\n",
        "    s = ''\n",
        "\n",
        "# Save file\n",
        "file = open(decode_file, 'w')\n",
        "file.write(string)\n",
        "file.close()\n",
        "t3 = time.time()\n",
        "total_2 = t3-t2"
      ],
      "metadata": {
        "id": "CwYkOVhD4OLL"
      },
      "execution_count": null,
      "outputs": []
    },
    {
      "cell_type": "markdown",
      "source": [
        "##Check file size"
      ],
      "metadata": {
        "id": "J49onInT4Rjl"
      }
    },
    {
      "cell_type": "code",
      "source": [
        "print(\"Input size:\", os.stat(input).st_size, \"(bytes).\")\n",
        "print(\"Output size:\", os.stat(output).st_size, \"(bytes).\")\n",
        "print(\"Decode size:\", os.stat(decode_file).st_size, \"(bytes).\")\n",
        "r = os.stat(input).st_size/os.stat(output).st_size\n",
        "print(\"Tỷ số nén:\", round(r,5))\n",
        "print(\"Tỷ lệ nén:\", round(1/r*100,2), \"%\")\n",
        "print(\"Hiệu suất nén:\", 100-round(1/r*100,2), \"%\")\n",
        "print(\"Thời gian nén:\", round(total_1,5), \"(giây).\")\n",
        "print(\"Thời gian giải nén:\", round(total_2,5), \"(giây).\")"
      ],
      "metadata": {
        "colab": {
          "base_uri": "https://localhost:8080/"
        },
        "id": "3Xrx0IR54T_L",
        "outputId": "1ed1b2bf-c21c-4a20-af95-e15f5bc4d767"
      },
      "execution_count": null,
      "outputs": [
        {
          "output_type": "stream",
          "name": "stdout",
          "text": [
            "Input size: 2167737 (bytes).\n",
            "Output size: 1232335 (bytes).\n",
            "Decode size: 2167737 (bytes).\n",
            "Tỷ số nén: 1.75905\n",
            "Tỷ lệ nén: 56.85 %\n",
            "Hiệu suất nén: 43.15 %\n",
            "Thời gian nén: 1.12055 (giây).\n",
            "Thời gian giải nén: 3.69857 (giây).\n"
          ]
        }
      ]
    },
    {
      "cell_type": "markdown",
      "source": [
        "#FANO"
      ],
      "metadata": {
        "id": "6Aufz3Qt4Z2j"
      }
    },
    {
      "cell_type": "markdown",
      "source": [
        "##Function"
      ],
      "metadata": {
        "id": "FTFMSkH_4cUc"
      }
    },
    {
      "cell_type": "code",
      "source": [
        "def load_file(input):\n",
        "  with open(input) as f:\n",
        "    content = f.readlines()\n",
        "    content = \"\".join(content)\n",
        "    if content:\n",
        "        return content\n",
        "    else:\n",
        "        print(\"Read file failed please try again\")\n",
        "        return \"\"\n",
        "        \n",
        "def generate(bin_code=\"\", char=[], total=0, _dict={}):\n",
        "    if len(char) == 1:\n",
        "        _dict[char[0][1]] = bin_code\n",
        "        return\n",
        "    count = char[0][0]\n",
        "    i = 1\n",
        "    while True:\n",
        "        left = count + char[i][0]\n",
        "        if left*2 > total:\n",
        "            break\n",
        "        count += char[i][0]\n",
        "        i+=1\n",
        "    generate(bin_code+'0',char[:i],count,_dict)\n",
        "    generate(bin_code+'1',char[i:],total-count,_dict)"
      ],
      "metadata": {
        "id": "zIhpfDYU4fB7"
      },
      "execution_count": null,
      "outputs": []
    },
    {
      "cell_type": "markdown",
      "source": [
        "##Encode"
      ],
      "metadata": {
        "id": "3Qm43VMa4h8r"
      }
    },
    {
      "cell_type": "code",
      "source": [
        "input = \"5.txt\"\n",
        "output = \"encoded_fano.txt\"\n",
        "dict_name = \"_dict_fano.csv\"\n",
        "\n",
        "t0 = time.time()\n",
        "# Read file\n",
        "content = load_file(input)\n",
        "\n",
        "# Count character\n",
        "count = Counter(content)\n",
        "total = sum(count.values())\n",
        "char = [x[::-1] for x in list(count.items())]\n",
        "char.sort(reverse=True)\n",
        "\n",
        "# Create dictionary\n",
        "_dict = dict()\n",
        "generate('',char,total,_dict)\n",
        "\n",
        "# Encode\n",
        "code = ''\n",
        "for c in content:\n",
        "  code += _dict[c]\n",
        "code_bin = BitArray(bin = code)\n",
        "max_bin = len(code)\n",
        "\n",
        "# Save file\n",
        "# output\n",
        "with open(output, \"wb\") as f:\n",
        "    code_bin.tofile(f)\n",
        "# dict\n",
        "keys = []\n",
        "values = []\n",
        "for key in _dict:\n",
        "  keys.append(_dict[key])\n",
        "  values.append(key)\n",
        "encoded = {'keys': list(keys), 'values': list(values)}\n",
        "df = pd.DataFrame(encoded)\n",
        "df.to_csv(dict_name, index=False)\n",
        "t1 = time.time()\n",
        "total_1 = t1-t0"
      ],
      "metadata": {
        "id": "SQmAZ7ki4kHt"
      },
      "execution_count": null,
      "outputs": []
    },
    {
      "cell_type": "markdown",
      "source": [
        "##Decode"
      ],
      "metadata": {
        "id": "tPvuQGgr4mk0"
      }
    },
    {
      "cell_type": "code",
      "source": [
        "decode_file = \"decoded_fano.txt\"\n",
        "\n",
        "t2 = time.time()\n",
        "# Read dictionary\n",
        "df = pd.read_csv(dict_name,dtype=str)\n",
        "keys = list(df['keys'])\n",
        "values = list(df['values'])\n",
        "_dict = dict(zip(keys,values))\n",
        "with open(output) as f:\n",
        "  data = Bits(f)\n",
        "\n",
        "\n",
        "# Decode\n",
        "string = ''\n",
        "s = ''\n",
        "for c in data.bin[:max_bin]:\n",
        "  if s+c not in _dict:\n",
        "    s+=c\n",
        "  else:\n",
        "    string+=_dict[s+c]\n",
        "    s = ''\n",
        "\n",
        "# Save file\n",
        "file = open(decode_file, 'w')\n",
        "file.write(string)\n",
        "file.close()\n",
        "t3 = time.time()\n",
        "total_2 = t3-t2"
      ],
      "metadata": {
        "id": "YY3XB83i4rij"
      },
      "execution_count": null,
      "outputs": []
    },
    {
      "cell_type": "markdown",
      "source": [
        "##Check file size"
      ],
      "metadata": {
        "id": "lKtw_Xw74tyk"
      }
    },
    {
      "cell_type": "code",
      "source": [
        "print(\"Input size:\", os.stat(input).st_size, \"(bytes).\")\n",
        "print(\"Output size:\", os.stat(output).st_size, \"(bytes).\")\n",
        "print(\"Decode size:\", os.stat(decode_file).st_size, \"(bytes).\")\n",
        "r = os.stat(input).st_size/os.stat(output).st_size\n",
        "print(\"Tỷ số nén:\", round(r,5))\n",
        "print(\"Tỷ lệ nén:\", round(1/r*100,2), \"%\")\n",
        "print(\"Hiệu suất nén:\", 100-round(1/r*100,2), \"%\")\n",
        "print(\"Thời gian nén:\", round(total_1,5), \"(giây).\")\n",
        "print(\"Thời gian giải nén:\", round(total_2,5), \"(giây).\")"
      ],
      "metadata": {
        "colab": {
          "base_uri": "https://localhost:8080/"
        },
        "id": "7yNeZyuq4wBQ",
        "outputId": "91360dee-1f8f-4517-aa53-1ed793852584"
      },
      "execution_count": null,
      "outputs": [
        {
          "output_type": "stream",
          "name": "stdout",
          "text": [
            "Input size: 2167737 (bytes).\n",
            "Output size: 1180838 (bytes).\n",
            "Decode size: 2167737 (bytes).\n",
            "Tỷ số nén: 1.83576\n",
            "Tỷ lệ nén: 54.47 %\n",
            "Hiệu suất nén: 45.53 %\n",
            "Thời gian nén: 1.1209 (giây).\n",
            "Thời gian giải nén: 3.62304 (giây).\n"
          ]
        }
      ]
    }
  ]
}